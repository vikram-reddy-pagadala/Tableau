{
 "cells": [
  {
   "cell_type": "markdown",
   "id": "46d8f90e",
   "metadata": {},
   "source": []
  }
 ],
 "metadata": {
  "language_info": {
   "name": "python"
  }
 },
 "nbformat": 4,
 "nbformat_minor": 5
}
